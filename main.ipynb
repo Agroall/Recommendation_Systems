{
 "cells": [
  {
   "cell_type": "markdown",
   "metadata": {},
   "source": [
    "# Importing all necessary packages"
   ]
  },
  {
   "cell_type": "code",
   "execution_count": 1,
   "metadata": {},
   "outputs": [],
   "source": [
    "# Data Processing\n",
    "import pandas as pd\n",
    "from scipy.sparse import csr_matrix"
   ]
  },
  {
   "cell_type": "markdown",
   "metadata": {},
   "source": [
    "# Importing relevant data"
   ]
  },
  {
   "cell_type": "markdown",
   "metadata": {},
   "source": [
    "\"items_info.dat\" contains data field seperated by \"\\t\" but some of the fields also contain \"\\t\" within the text of the file. This causes errors when the file is read directly. The next cell is trying to sort that error."
   ]
  },
  {
   "cell_type": "code",
   "execution_count": 21,
   "metadata": {},
   "outputs": [],
   "source": [
    "# This code block creates a new .dat file that contains only the first 6 columns and the last column (the remaining columns are not necessary for the project). \n",
    "with open('book_crossing/book_crossing/items_info.dat', 'r', encoding='utf-8') as infile, \\\n",
    "     open('book_crossing/book_crossing/items_info_clean.dat', 'w', encoding='utf-8') as outfile:\n",
    "    for line in infile:\n",
    "        parts = line.strip().split('\\t')\n",
    "        if len(parts) >= 6:\n",
    "            selected_parts = parts[:6] + [parts[-1]]  # First 6 fields + last field\n",
    "            outfile.write('\\t'.join(selected_parts) + '\\n')"
   ]
  },
  {
   "cell_type": "code",
   "execution_count": 22,
   "metadata": {},
   "outputs": [],
   "source": [
    "ratings = pd.read_csv('book_crossing/book_crossing/book_ratings.dat', delimiter = '\\t')\n",
    "history = pd.read_csv('book_crossing/book_crossing/book_history.dat', delimiter = '\\t') # Books and readers history.\n",
    "items = pd.read_csv('book_crossing/book_crossing/items_info_clean.dat', delimiter = '\\t', on_bad_lines='skip')  # list of books and Ids (Primary id key)\n",
    "users = pd.read_csv('book_crossing/book_crossing/users_info.dat', delimiter = '\\t') # list of users"
   ]
  },
  {
   "cell_type": "markdown",
   "metadata": {},
   "source": [
    "# Analysis"
   ]
  },
  {
   "cell_type": "markdown",
   "metadata": {},
   "source": [
    "## Analysis of ratings dataset"
   ]
  },
  {
   "cell_type": "code",
   "execution_count": 23,
   "metadata": {},
   "outputs": [],
   "source": [
    "# Total number of readers\n",
    "n_readers = ratings['user'].nunique()\n",
    "# Total number of books\n",
    "n_books = ratings['item'].nunique()"
   ]
  },
  {
   "cell_type": "markdown",
   "metadata": {},
   "source": [
    "## Book Average ratings"
   ]
  },
  {
   "cell_type": "code",
   "execution_count": 14,
   "metadata": {},
   "outputs": [],
   "source": [
    "avg_ratings = ratings.groupby('item')['rating'].mean()\n",
    "avg_ratings_dict = dict(zip(avg_ratings.index, round(avg_ratings, 2)))"
   ]
  },
  {
   "cell_type": "markdown",
   "metadata": {},
   "source": [
    "## Book titles"
   ]
  },
  {
   "cell_type": "code",
   "execution_count": 26,
   "metadata": {},
   "outputs": [],
   "source": [
    "book_titles = dict(zip(items['Book_ID'], items['Book-Title']))"
   ]
  },
  {
   "cell_type": "code",
   "execution_count": 29,
   "metadata": {},
   "outputs": [
    {
     "name": "stdout",
     "output_type": "stream",
     "text": [
      "22.98% of the books accessed were rated.\n",
      "The user who accessed the most books is user 1614 with 2088 books accessed.\n",
      "The user who rated the most books is user 1003 with 1092 books rated.\n",
      "The most accessed book was Airframe, accessed 718 times.\n",
      "The most rated book was Impossible Vacation, rated 160 times.\n"
     ]
    }
   ],
   "source": [
    "# What percent of books accessed were rated\n",
    "percent_rated = len(ratings) / len(history) * 100\n",
    "print(f'{round(percent_rated, 2)}% of the books accessed were rated.')\n",
    "# What user accessed the most books\n",
    "user_access = history.groupby('user')['item'].count().sort_values(ascending=False)\n",
    "print(f'The user who accessed the most books is user {user_access.index[0]} with {user_access.max()} books accessed.')\n",
    "# What user rated the most books\n",
    "user_ratings = ratings.groupby('user')['item'].count().sort_values(ascending=False)\n",
    "print(f'The user who rated the most books is user {user_ratings.index[0]} with {user_ratings.max()} books rated.')\n",
    "# What was the most accessed books\n",
    "book_access = history.value_counts('item')\n",
    "print(f'The most accessed book was {book_titles[book_access.index[0]]}, accessed {book_access.max()} times.')\n",
    "# What was the most rated books?\n",
    "book_ratings = ratings.value_counts('item')\n",
    "print(f'The most rated book was {book_titles[book_ratings.index[0]]}, rated {book_ratings.max()} times.')"
   ]
  },
  {
   "cell_type": "markdown",
   "metadata": {},
   "source": [
    "# Creating Sparse Matrix"
   ]
  },
  {
   "cell_type": "markdown",
   "metadata": {},
   "source": []
  }
 ],
 "metadata": {
  "kernelspec": {
   "display_name": "Python 3",
   "language": "python",
   "name": "python3"
  },
  "language_info": {
   "codemirror_mode": {
    "name": "ipython",
    "version": 3
   },
   "file_extension": ".py",
   "mimetype": "text/x-python",
   "name": "python",
   "nbconvert_exporter": "python",
   "pygments_lexer": "ipython3",
   "version": "3.12.3"
  }
 },
 "nbformat": 4,
 "nbformat_minor": 2
}
